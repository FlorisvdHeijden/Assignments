{
 "cells": [
  {
   "cell_type": "markdown",
   "metadata": {},
   "source": [
    "Before you turn this problem in, make sure everything runs as expected. First, **restart the kernel** (in the menubar, select Kernel$\\rightarrow$Restart) and then **run all cells** (in the menubar, select Cell$\\rightarrow$Run All).\n",
    "\n",
    "Make sure you fill in any place that says `YOUR CODE HERE` or \"YOUR ANSWER HERE\", as well as your name and collaborators below:"
   ]
  },
  {
   "cell_type": "code",
   "execution_count": 173,
   "metadata": {},
   "outputs": [],
   "source": [
    "NAME = \"Floris van der Heijden 2009790 u245966\"\n",
    "COLLABORATORS = \"Noah Woerdman 2009606 u906467\""
   ]
  },
  {
   "cell_type": "markdown",
   "metadata": {},
   "source": [
    "---"
   ]
  },
  {
   "cell_type": "markdown",
   "metadata": {},
   "source": [
    "Fill in the cell above to provide us with your name and student number, like\n",
    "\n",
    "NAME = \"Adam Smith, #student number#\"\n",
    "\n",
    "where you replace \"#student number#\" with your ... (very good!)\n",
    "\n",
    "and if you are doing this with someone else (not more than one other person):\n",
    "\n",
    "COLLABORATORS = \"Karl Marx, #student number#\""
   ]
  },
  {
   "cell_type": "markdown",
   "metadata": {
    "deletable": false,
    "editable": false,
    "nbgrader": {
     "checksum": "a7ae5c69becf064d614c6c38935eca51",
     "grade": false,
     "grade_id": "cell-895e9a7b94992ec9",
     "locked": true,
     "schema_version": 1,
     "solution": false
    }
   },
   "source": [
    "# exam June 7th, 2018\n"
   ]
  },
  {
   "cell_type": "markdown",
   "metadata": {
    "deletable": false,
    "editable": false,
    "nbgrader": {
     "checksum": "bc48d165f54aa364aa34509649fcdef5",
     "grade": false,
     "grade_id": "cell-540987818af25557",
     "locked": true,
     "schema_version": 1,
     "solution": false
    }
   },
   "source": [
    "\n",
    "In the first cell of the notebook, give us your name and student number in the way indicated above. If you do this notebook with --at max.-- one other student, give her/his name and student number as well under \"COLLABORATORS\".\n",
    "\n",
    "Fill in the notebook (see below for code cells and text cells that you need to fill in).\n",
    "\n",
    "If you look at the menus above (File, Edit, View etc.), there is one called \"Cell\". If you click on this, you can change the \"Cell Type\". Choose \"Code\" when you are typing python or R code. Choose \"Markdown\" when you are typing, well, markdown.\n",
    "\n",
    "When you finish the notebook, make sure that you **save it with the output of your code included**. \n",
    "\n",
    "Then put it on github, e.g. by dragging it onto github (see instructions below). \n",
    "\n",
    "Finally, add a link to your README file with the name of this exam: \"Exam June 7, 2018\".\n",
    "\n"
   ]
  },
  {
   "cell_type": "markdown",
   "metadata": {
    "deletable": false,
    "editable": false,
    "nbgrader": {
     "checksum": "6fad9bed312da1b0097e9c520b18e3fb",
     "grade": false,
     "grade_id": "cell-e1cf88cb799f1f43",
     "locked": true,
     "schema_version": 1,
     "solution": false
    }
   },
   "source": [
    "## price effects of mergers\n",
    "\n",
    "We consider a merger in this notebook. \n",
    "\n",
    "First we calculate the equilibrium with three firms, denoted by 1, 2 and 3. Then firms 2 and 3 merge so that we are left with 2 firms; denoted by 1 and 2.\n",
    "\n",
    "We calculate the effects of the merger on the equilibrium price.\n",
    "\n",
    "We start by importing the usual libraries."
   ]
  },
  {
   "cell_type": "code",
   "execution_count": 174,
   "metadata": {
    "deletable": false,
    "editable": false,
    "nbgrader": {
     "checksum": "7bd770ef54db47c3b6c8d0e31f6baef6",
     "grade": false,
     "grade_id": "cell-b895769bf40e183a",
     "locked": true,
     "schema_version": 1,
     "solution": false
    }
   },
   "outputs": [],
   "source": [
    "import matplotlib.pyplot as plt\n",
    "import pandas as pd\n",
    "import numpy as np\n",
    "from scipy import optimize\n",
    "%matplotlib inline"
   ]
  },
  {
   "cell_type": "markdown",
   "metadata": {},
   "source": [
    "The following code helps to calculate the equilibrium for the case with 3 firms. Note that you have seen similar code during the tutorials to calculate the equilibrium with 2 firms.\n",
    "\n",
    "We assume that before the merger each firm has constant marginal costs equal to 0.3. We assume a simple linear (inverse) demand curve of the form $p=1-Q$ where $p$ denotes price and $Q$ total output on the market. Total output equals the sum of each firm's output: $Q= q_1 + q_2+q_3$."
   ]
  },
  {
   "cell_type": "code",
   "execution_count": 175,
   "metadata": {
    "deletable": false,
    "editable": false,
    "nbgrader": {
     "checksum": "3e30f7ac9d9155ef089b8ca56a0c0436",
     "grade": false,
     "grade_id": "cell-f97a25efed556fd2",
     "locked": true,
     "schema_version": 1,
     "solution": false
    }
   },
   "outputs": [],
   "source": [
    "c0 = 0.3\n",
    "vector_c = [c0]*3\n",
    "\n",
    "def p(Q):\n",
    "    return 1 - Q\n",
    "\n",
    "def costs(q,c):\n",
    "    return c*q\n",
    "\n",
    "def profits(q,Q_other,c):\n",
    "    return p(q+Q_other)*q-costs(q,c)\n",
    "\n",
    "def reaction(Q_other,c):\n",
    "    q1 =  optimize.fminbound(lambda x: -profits(x,Q_other,c),0,1,full_output=1)\n",
    "    return q1[0]\n",
    "\n",
    "def fixed_point_three_firms(vector_q,vector_c):\n",
    "    return [vector_q[0]-reaction(vector_q[1]+vector_q[2],vector_c[0]),\n",
    "            vector_q[1]-reaction(vector_q[0]+vector_q[2],vector_c[1]),\n",
    "            vector_q[2]-reaction(vector_q[0]+vector_q[1],vector_c[2])]\n",
    "\n"
   ]
  },
  {
   "cell_type": "markdown",
   "metadata": {
    "deletable": false,
    "editable": false,
    "nbgrader": {
     "checksum": "f6ea3b2416aca7293a5450c45865f242",
     "grade": false,
     "grade_id": "cell-83284c4090d6de8c",
     "locked": true,
     "schema_version": 1,
     "solution": false
    }
   },
   "source": [
    "#### a) [0.5 points] Show that total equilibrium output equals  0.525. Derive the equilibrium price and Herfindahl index; denote these by `P0` and `H0` resp."
   ]
  },
  {
   "cell_type": "markdown",
   "metadata": {},
   "source": [
    "first we created the starting point at an output of 0 for all firms. then we solved and optimized the model to find at which points the firms wouldnt change their outputs anymore. from these outputs we calculated the total output, price and Herfindahl index."
   ]
  },
  {
   "cell_type": "code",
   "execution_count": 176,
   "metadata": {
    "deletable": false,
    "nbgrader": {
     "checksum": "a06d73c35395adb00480733b458cb4a5",
     "grade": true,
     "grade_id": "cell-3b8ee172d9950128",
     "locked": false,
     "points": 0.5,
     "schema_version": 1,
     "solution": true
    }
   },
   "outputs": [
    {
     "name": "stdout",
     "output_type": "stream",
     "text": [
      "output vector equals: [0.175 0.175 0.175]\n",
      "equilibrium output equals(Q0): 0.525\n",
      "equilibrium price equals(P0): 0.475\n",
      "Herfindahl index equals: 0.3333333333333333\n",
      "rounded Herfindahl index equals(H0): 0.3333\n"
     ]
    }
   ],
   "source": [
    "starting_point = [0,0,0]\n",
    "output_vector_firms = optimize.fsolve(lambda q: fixed_point_three_firms(q,[0.3,0.3,0.3]), starting_point)\n",
    "print(\"output vector equals: \" + str(output_vector_firms))\n",
    "equilibrium_output = sum(output_vector_firms)\n",
    "print(\"equilibrium output equals(Q0): \" + str(equilibrium_output))\n",
    "print(\"equilibrium price equals(P0): \" + str(p(equilibrium_output)))\n",
    "market_share = output_vector_firms / equilibrium_output\n",
    "herfindahl_index = sum(market_share**2)\n",
    "print(\"Herfindahl index equals: \" + str(herfindahl_index))\n",
    "print(\"rounded Herfindahl index equals(H0): \"+ str(round(herfindahl_index,4)))"
   ]
  },
  {
   "cell_type": "markdown",
   "metadata": {
    "deletable": false,
    "editable": false,
    "nbgrader": {
     "checksum": "87b3b3e0e2d645c280e279312e489dc4",
     "grade": false,
     "grade_id": "cell-4b33762aa4a601fe",
     "locked": true,
     "schema_version": 1,
     "solution": false
    }
   },
   "source": [
    "#### b) [0.5 point] Define a function `fixed_point_two_firms` with the same structure as the function `fixed_point_three_firms` above, except that it derives the equilibrium output levels for a duopoly (two firms). Test this function by showing that each of the two firms produces 0.3333 in case both firms have zero costs."
   ]
  },
  {
   "cell_type": "markdown",
   "metadata": {},
   "source": [
    "we used the model from 1a and changed the cost from 0.3 to 0. then we altered the fixed_point so that this would only depend on firm 0 and firm 1. then again solving it to check if the outputs equalled 0.3333."
   ]
  },
  {
   "cell_type": "code",
   "execution_count": 177,
   "metadata": {
    "deletable": false,
    "nbgrader": {
     "checksum": "024a1519155d681b57c85292df535a65",
     "grade": true,
     "grade_id": "cell-5ee215676b91f504",
     "locked": false,
     "points": 0.5,
     "schema_version": 1,
     "solution": true
    }
   },
   "outputs": [
    {
     "name": "stdout",
     "output_type": "stream",
     "text": [
      "output vector equals: [0.33333333 0.33333333]\n"
     ]
    }
   ],
   "source": [
    "c0 = 0\n",
    "vector_c = [c0]*2\n",
    "\n",
    "def p(Q):\n",
    "    return 1 - Q\n",
    "\n",
    "def costs(q,c):\n",
    "    return c*q\n",
    "\n",
    "def profits(q,Q_other,c):\n",
    "    return p(q+Q_other)*q-costs(q,c)\n",
    "\n",
    "def reaction(Q_other,c):\n",
    "    q1 =  optimize.fminbound(lambda x: -profits(x,Q_other,c),0,1,full_output=1)\n",
    "    return q1[0]\n",
    "\n",
    "def fixed_point_two_firms(vector_q,vector_c):\n",
    "    return [vector_q[0]-reaction(vector_q[1],vector_c[0]),\n",
    "            vector_q[1]-reaction(vector_q[0],vector_c[1])]\n",
    "\n",
    "starting_point = [0,0]\n",
    "output_vector_firms = optimize.fsolve(lambda q: fixed_point_two_firms(q,[0,0]), starting_point)\n",
    "print(\"output vector equals: \" + str(output_vector_firms))"
   ]
  },
  {
   "cell_type": "markdown",
   "metadata": {
    "deletable": false,
    "editable": false,
    "nbgrader": {
     "checksum": "5291fc8716e367572fde17ebe5844d2f",
     "grade": false,
     "grade_id": "cell-c2fada02efd7b197",
     "locked": true,
     "schema_version": 1,
     "solution": false
    }
   },
   "source": [
    "The Dutch competition authority, ACM, is asked to evaluate the effects of a merger between firms 2 and 3. Firms 2 and 3 claim that by merging they can reduce their constant marginal costs. But it is not clear by how much they will reduce their costs.\n",
    "\n",
    "The ACM assumes that the marginal cost level of the merged firm is uniformly distributed between 0 and the current marginal cost level `c0`. The merger will not affect the marginal cost level of firm 1 who does not merge. Firm 1's cost level remains `c0`.\n",
    "\n",
    "The next cell generates a vector of cost levels for the merged firm, denoted `c_after_merger`. Evaluate \"c_after_merger\" in a separate cell if you do not understand the command that defines it.\n",
    "\n",
    "Then it calculates the equilibrium output levels for (the non-merging) firm 1 and (the merged) firm 2.\n",
    "\n",
    "Note that you need to specify `initial_guess`.\n"
   ]
  },
  {
   "cell_type": "code",
   "execution_count": 178,
   "metadata": {
    "deletable": false,
    "editable": false,
    "nbgrader": {
     "checksum": "11299317cd53e31de9900700999b0324",
     "grade": false,
     "grade_id": "cell-ce91ab3e3225c57d",
     "locked": true,
     "schema_version": 1,
     "solution": false
    }
   },
   "outputs": [],
   "source": [
    "c_after_merger = np.random.uniform(0,c0,size = 100)\n",
    "\n",
    "q1_after_merger = [optimize.fsolve(lambda q: fixed_point_two_firms(q,[c0,c]), initial_guess)[0] for c in c_after_merger]\n",
    "q2_after_merger = [optimize.fsolve(lambda q: fixed_point_two_firms(q,[c0,c]), initial_guess)[1] for c in c_after_merger]\n",
    "\n",
    "\n"
   ]
  },
  {
   "cell_type": "markdown",
   "metadata": {
    "deletable": false,
    "editable": false,
    "nbgrader": {
     "checksum": "2b518306d6ff20ee42d0bc3085333095",
     "grade": false,
     "grade_id": "cell-0acc18b4f07a09f4",
     "locked": true,
     "schema_version": 1,
     "solution": false
    }
   },
   "source": [
    "#### c) [0.5 points] Create a dataframe called `df_after_merger` with three columns: `c_merged_firm`, `output_non_merging_firm`, `output_merged_firm` containing resp. the cost level of the merged firm, the output level of firm 1 and the output level of firm 2."
   ]
  },
  {
   "cell_type": "markdown",
   "metadata": {},
   "source": [
    "first we copied the model from above. then we created 100 random points between 0 and 0.3 for the marginal cost of the merged firm. then we used the model to calculate the outputs of both firms with their given costs. then we put these lists in a dataframe with according column names."
   ]
  },
  {
   "cell_type": "code",
   "execution_count": 179,
   "metadata": {
    "deletable": false,
    "nbgrader": {
     "checksum": "f4fc6a3bdef91fa3f656ccd3290c9f54",
     "grade": true,
     "grade_id": "cell-f3eacda828774f2d",
     "locked": false,
     "points": 0.5,
     "schema_version": 1,
     "solution": true
    }
   },
   "outputs": [
    {
     "name": "stdout",
     "output_type": "stream",
     "text": [
      "    c_merged_firm  output_merged_firm  output_non_merging_firm\n",
      "0        0.251090            0.265940                 0.217030\n",
      "1        0.245362            0.269758                 0.215121\n",
      "2        0.095658            0.369561                 0.165219\n",
      "3        0.223392            0.284405                 0.207797\n",
      "4        0.069507            0.386996                 0.156502\n",
      "5        0.253152            0.264565                 0.217717\n",
      "6        0.085105            0.376596                 0.161702\n",
      "7        0.286891            0.242073                 0.228964\n",
      "8        0.291517            0.238989                 0.230506\n",
      "9        0.062252            0.391832                 0.154084\n",
      "10       0.010083            0.426611                 0.136694\n",
      "11       0.191303            0.305798                 0.197101\n",
      "12       0.105474            0.363018                 0.168491\n",
      "13       0.282891            0.244740                 0.227630\n",
      "14       0.121051            0.352633                 0.173684\n",
      "15       0.133248            0.344502                 0.177749\n",
      "16       0.255445            0.263037                 0.218482\n",
      "17       0.126547            0.348969                 0.175516\n",
      "18       0.069427            0.387049                 0.156476\n",
      "19       0.143880            0.337413                 0.181293\n",
      "20       0.076288            0.382475                 0.158763\n",
      "21       0.071079            0.385947                 0.157026\n",
      "22       0.189946            0.306703                 0.196649\n",
      "23       0.071637            0.385575                 0.157212\n",
      "24       0.172558            0.318294                 0.190853\n",
      "25       0.105932            0.362712                 0.168644\n",
      "26       0.283728            0.244181                 0.227909\n",
      "27       0.259526            0.260316                 0.219842\n",
      "28       0.224480            0.283680                 0.208160\n",
      "29       0.075258            0.383162                 0.158419\n",
      "..            ...                 ...                      ...\n",
      "70       0.180055            0.313297                 0.193352\n",
      "71       0.149730            0.333513                 0.183243\n",
      "72       0.135976            0.342683                 0.178659\n",
      "73       0.226407            0.282395                 0.208802\n",
      "74       0.249941            0.266706                 0.216647\n",
      "75       0.178797            0.314135                 0.192932\n",
      "76       0.157818            0.328122                 0.185939\n",
      "77       0.134927            0.343382                 0.178309\n",
      "78       0.287329            0.241781                 0.229110\n",
      "79       0.031000            0.412667                 0.143667\n",
      "80       0.291648            0.238901                 0.230549\n",
      "81       0.266288            0.255808                 0.222096\n",
      "82       0.179824            0.313451                 0.193275\n",
      "83       0.096857            0.368762                 0.165619\n",
      "84       0.221858            0.285428                 0.207286\n",
      "85       0.071410            0.385726                 0.157137\n",
      "86       0.030612            0.412925                 0.143537\n",
      "87       0.111201            0.359199                 0.170400\n",
      "88       0.183627            0.310915                 0.194542\n",
      "89       0.068142            0.387905                 0.156047\n",
      "90       0.230448            0.279701                 0.210149\n",
      "91       0.173004            0.317998                 0.191001\n",
      "92       0.139100            0.340600                 0.179700\n",
      "93       0.144636            0.336910                 0.181545\n",
      "94       0.203121            0.297919                 0.201040\n",
      "95       0.188284            0.307811                 0.196095\n",
      "96       0.201612            0.298925                 0.200537\n",
      "97       0.215690            0.289540                 0.205230\n",
      "98       0.182703            0.311531                 0.194234\n",
      "99       0.104365            0.363757                 0.168122\n",
      "\n",
      "[100 rows x 3 columns]\n"
     ]
    }
   ],
   "source": [
    "c0=0.3\n",
    "c_after_merger = np.random.uniform(0,c0,size = 100)\n",
    "initial_guess=[0,0]\n",
    "q1_after_merger = [optimize.fsolve(lambda q: fixed_point_two_firms(q,[c0,c]), initial_guess)[0] for c in c_after_merger]\n",
    "q2_after_merger = [optimize.fsolve(lambda q: fixed_point_two_firms(q,[c0,c]), initial_guess)[1] for c in c_after_merger]\n",
    "c_merged_firm = c_after_merger\n",
    "output_non_merging_firm = q1_after_merger\n",
    "output_merged_firm = q2_after_merger\n",
    "data = {'c_merged_firm':c_merged_firm,'output_non_merging_firm':output_non_merging_firm,'output_merged_firm':output_merged_firm}\n",
    "df_after_merger = pd.DataFrame(data)\n",
    "print(df_after_merger)\n"
   ]
  },
  {
   "cell_type": "markdown",
   "metadata": {
    "deletable": false,
    "editable": false,
    "nbgrader": {
     "checksum": "a5bf4171960844da9c57375d83b6eedf",
     "grade": false,
     "grade_id": "cell-7ad058be42e19df8",
     "locked": true,
     "schema_version": 1,
     "solution": false
    }
   },
   "source": [
    "#### d) [0.5 points] Add three columns to the dataframe with resp. total equilibrium output on the market, `Q`, equilibrium price, `P` and the Herfindahl index, `H`."
   ]
  },
  {
   "cell_type": "markdown",
   "metadata": {},
   "source": [
    "we put the lists from 1c in numpy arrays to be able to divide them as list/list isn't possible but array/array is. the we used these arrays to calculate the total output, price(for this we also created an array which has 100 entries of 1) and Herfindahl index and then created a dataframe."
   ]
  },
  {
   "cell_type": "code",
   "execution_count": 180,
   "metadata": {
    "deletable": false,
    "nbgrader": {
     "checksum": "ab6179623b39a6ae634abea45326e4ab",
     "grade": true,
     "grade_id": "cell-9c39b11747803ca1",
     "locked": false,
     "points": 0.5,
     "schema_version": 1,
     "solution": true
    }
   },
   "outputs": [
    {
     "name": "stdout",
     "output_type": "stream",
     "text": [
      "           H         P         Q  c_merged_firm  output_merged_firm  \\\n",
      "0   0.505128  0.517030  0.482970       0.251090            0.265940   \n",
      "1   0.506349  0.515121  0.484879       0.245362            0.269758   \n",
      "2   0.573002  0.465219  0.534781       0.095658            0.369561   \n",
      "3   0.512112  0.507797  0.492203       0.223392            0.284405   \n",
      "4   0.589927  0.456502  0.543498       0.069507            0.386996   \n",
      "5   0.504718  0.517717  0.482283       0.253152            0.264565   \n",
      "6   0.579685  0.461702  0.538298       0.085105            0.376596   \n",
      "7   0.500387  0.528964  0.471036       0.286891            0.242073   \n",
      "8   0.500163  0.530506  0.469494       0.291517            0.238989   \n",
      "9   0.594831  0.454084  0.545916       0.062252            0.391832   \n",
      "10  0.632443  0.436694  0.563306       0.010083            0.426611   \n",
      "11  0.523359  0.497101  0.502899       0.191303            0.305798   \n",
      "12  0.566974  0.468491  0.531509       0.105474            0.363018   \n",
      "13  0.500656  0.527630  0.472370       0.282891            0.244740   \n",
      "14  0.557801  0.473684  0.526316       0.121051            0.352633   \n",
      "15  0.550975  0.477749  0.522251       0.133248            0.344502   \n",
      "16  0.504281  0.518482  0.481518       0.255445            0.263037   \n",
      "17  0.554685  0.475516  0.524484       0.126547            0.348969   \n",
      "18  0.589981  0.456476  0.543524       0.069427            0.387049   \n",
      "19  0.545294  0.481293  0.518707       0.143880            0.337413   \n",
      "20  0.585423  0.458763  0.541237       0.076288            0.382475   \n",
      "21  0.588876  0.457026  0.542974       0.071079            0.385947   \n",
      "22  0.523902  0.496649  0.503351       0.189946            0.306703   \n",
      "23  0.588504  0.457212  0.542788       0.071637            0.385575   \n",
      "24  0.531326  0.490853  0.509147       0.172558            0.318294   \n",
      "25  0.566697  0.468644  0.531356       0.105932            0.362712   \n",
      "26  0.500594  0.527909  0.472091       0.283728            0.244181   \n",
      "27  0.503553  0.519842  0.480158       0.259526            0.260316   \n",
      "28  0.511788  0.508160  0.491840       0.224480            0.283680   \n",
      "29  0.586102  0.458419  0.541581       0.075258            0.383162   \n",
      "..       ...       ...       ...            ...                 ...   \n",
      "70  0.528024  0.493352  0.506648       0.180055            0.313297   \n",
      "71  0.542281  0.483243  0.516757       0.149730            0.333513   \n",
      "72  0.549493  0.478659  0.521341       0.135976            0.342683   \n",
      "73  0.511224  0.508802  0.491198       0.226407            0.282395   \n",
      "74  0.505363  0.516647  0.483353       0.249941            0.266706   \n",
      "75  0.528567  0.492932  0.507068       0.178797            0.314135   \n",
      "76  0.538250  0.485939  0.514061       0.157818            0.328122   \n",
      "77  0.550061  0.478309  0.521691       0.134927            0.343382   \n",
      "78  0.500362  0.529110  0.470890       0.287329            0.241781   \n",
      "79  0.616897  0.443667  0.556333       0.031000            0.412667   \n",
      "80  0.500158  0.530549  0.469451       0.291648            0.238901   \n",
      "81  0.502488  0.522096  0.477904       0.266288            0.255808   \n",
      "82  0.528123  0.493275  0.506725       0.179824            0.313451   \n",
      "83  0.572256  0.465619  0.534381       0.096857            0.368762   \n",
      "84  0.512576  0.507286  0.492714       0.221858            0.285428   \n",
      "85  0.588655  0.457137  0.542863       0.071410            0.385726   \n",
      "86  0.617180  0.443537  0.556463       0.030612            0.412925   \n",
      "87  0.563544  0.470400  0.529600       0.111201            0.359199   \n",
      "88  0.526503  0.494542  0.505458       0.183627            0.310915   \n",
      "89  0.590843  0.456047  0.543953       0.068142            0.387905   \n",
      "90  0.510080  0.510149  0.489851       0.230448            0.279701   \n",
      "91  0.531126  0.491001  0.508999       0.173004            0.317998   \n",
      "92  0.547816  0.479700  0.520300       0.139100            0.340600   \n",
      "93  0.544901  0.481545  0.518455       0.144636            0.336910   \n",
      "94  0.518849  0.501040  0.498960       0.203121            0.297919   \n",
      "95  0.524576  0.496095  0.503905       0.188284            0.307811   \n",
      "96  0.519402  0.500537  0.499463       0.201612            0.298925   \n",
      "97  0.514519  0.505230  0.494770       0.215690            0.289540   \n",
      "98  0.526893  0.494234  0.505766       0.182703            0.311531   \n",
      "99  0.567645  0.468122  0.531878       0.104365            0.363757   \n",
      "\n",
      "    output_non_merging_firm  \n",
      "0                  0.217030  \n",
      "1                  0.215121  \n",
      "2                  0.165219  \n",
      "3                  0.207797  \n",
      "4                  0.156502  \n",
      "5                  0.217717  \n",
      "6                  0.161702  \n",
      "7                  0.228964  \n",
      "8                  0.230506  \n",
      "9                  0.154084  \n",
      "10                 0.136694  \n",
      "11                 0.197101  \n",
      "12                 0.168491  \n",
      "13                 0.227630  \n",
      "14                 0.173684  \n",
      "15                 0.177749  \n",
      "16                 0.218482  \n",
      "17                 0.175516  \n",
      "18                 0.156476  \n",
      "19                 0.181293  \n",
      "20                 0.158763  \n",
      "21                 0.157026  \n",
      "22                 0.196649  \n",
      "23                 0.157212  \n",
      "24                 0.190853  \n",
      "25                 0.168644  \n",
      "26                 0.227909  \n",
      "27                 0.219842  \n",
      "28                 0.208160  \n",
      "29                 0.158419  \n",
      "..                      ...  \n",
      "70                 0.193352  \n",
      "71                 0.183243  \n",
      "72                 0.178659  \n",
      "73                 0.208802  \n",
      "74                 0.216647  \n",
      "75                 0.192932  \n",
      "76                 0.185939  \n",
      "77                 0.178309  \n",
      "78                 0.229110  \n",
      "79                 0.143667  \n",
      "80                 0.230549  \n",
      "81                 0.222096  \n",
      "82                 0.193275  \n",
      "83                 0.165619  \n",
      "84                 0.207286  \n",
      "85                 0.157137  \n",
      "86                 0.143537  \n",
      "87                 0.170400  \n",
      "88                 0.194542  \n",
      "89                 0.156047  \n",
      "90                 0.210149  \n",
      "91                 0.191001  \n",
      "92                 0.179700  \n",
      "93                 0.181545  \n",
      "94                 0.201040  \n",
      "95                 0.196095  \n",
      "96                 0.200537  \n",
      "97                 0.205230  \n",
      "98                 0.194234  \n",
      "99                 0.168122  \n",
      "\n",
      "[100 rows x 6 columns]\n"
     ]
    }
   ],
   "source": [
    "qmf= np.array(output_merged_firm)\n",
    "qnmf= np.array(output_non_merging_firm)\n",
    "Q = qmf+qnmf\n",
    "Qnp= np.array(Q)\n",
    "H = ((qmf/Qnp)**2)+((qnmf/Qnp)**2)\n",
    "P = (100*[1]) - Qnp\n",
    "data = {'c_merged_firm':c_merged_firm,'output_non_merging_firm':output_non_merging_firm,'output_merged_firm':output_merged_firm, 'Q':Q, 'H':H, 'P':P}\n",
    "df_after_merger = pd.DataFrame(data)\n",
    "print(df_after_merger)\n"
   ]
  },
  {
   "cell_type": "markdown",
   "metadata": {},
   "source": [
    "#### e) [0.5 points] Make a histogram of the equilibrium price `P` after the merger. Also indicate in the histogram the equilibrium price before the merger `P0`. Label the horizontal axis with $P$.\n",
    "\n",
    "[hint: you may want to use matplotlib's `hist`, `vlines` and `legend` to make this graph (e.g use google to find these functions); but feel free to use something else]"
   ]
  },
  {
   "cell_type": "markdown",
   "metadata": {},
   "source": [
    "we plotted a histogram of P after the merger with a vertical line P0 with a legend"
   ]
  },
  {
   "cell_type": "code",
   "execution_count": 183,
   "metadata": {
    "deletable": false,
    "nbgrader": {
     "checksum": "b103cd98545261b20f937f4b9db67f68",
     "grade": true,
     "grade_id": "cell-f9193bf8e71f1a9a",
     "locked": false,
     "points": 0.5,
     "schema_version": 1,
     "solution": true
    }
   },
   "outputs": [
    {
     "data": {
      "text/plain": [
       "Text(0,0.5,'Number of observations')"
      ]
     },
     "execution_count": 183,
     "metadata": {},
     "output_type": "execute_result"
    },
    {
     "data": {
      "image/png": "[encoded data removed]",
      "text/plain": [
       "<matplotlib.figure.Figure at 0x202002e8ef0>"
      ]
     },
     "metadata": {},
     "output_type": "display_data"
    }
   ],
   "source": [
    "plt.hist(P,edgecolor='black', label = 'P')\n",
    "plt.vlines(p(equilibrium_output),ymin=0,ymax=15,label = 'P0,equilibrium price before merger')\n",
    "plt.legend(bbox_to_anchor=(1, 1))\n",
    "plt.xlabel('Price')\n",
    "plt.ylabel('Number of observations')\n"
   ]
  },
  {
   "cell_type": "markdown",
   "metadata": {},
   "source": [
    "#### f) [0.5 points] Explain why sometimes the equilibrium price after the merger exceeds the equilibrium price before the merger and sometimes it is lower than the pre-merger price. [hint: there is a trade off between two effects, depending on which effect dominates, equilibrium price increases or decreases after the merger]"
   ]
  },
  {
   "cell_type": "markdown",
   "metadata": {
    "deletable": false,
    "nbgrader": {
     "checksum": "dd9fc721b7cf7f66587e93cbfb758034",
     "grade": true,
     "grade_id": "cell-7a1f367cd2854156",
     "locked": false,
     "points": 0.5,
     "schema_version": 1,
     "solution": true
    }
   },
   "source": [
    "the trade off is between the decrease in marginal costs and the increase in q per firm due to going from 3 firms total to 2 firms total. if the decrease in marginal costs is small the quantity effect is bigger so total quantity drops and prices will go up. if the decrease in marginal costs is large the quantity effect is smaller so total quantity rises and prices will go down.\n"
   ]
  },
  {
   "cell_type": "markdown",
   "metadata": {
    "deletable": false,
    "editable": false,
    "nbgrader": {
     "checksum": "e1e41dbf14c605bf91cdc78f70eada99",
     "grade": false,
     "grade_id": "cell-06ed6044f8938a45",
     "locked": true,
     "schema_version": 1,
     "solution": false
    }
   },
   "source": [
    "#### g) [0.5 points] Make a graph with the Herfindahl index on the horizontal axis and the equilibrium price on the vertical axis. This is straightforward for $(H,P)$ after the merger as both values are in the dataframe. Add in another color, the pre-merger combination `(H0,P0)` that we calculated above."
   ]
  },
  {
   "cell_type": "markdown",
   "metadata": {},
   "source": [
    "we created a scatterplot with the combinations of H,P and H0,P0."
   ]
  },
  {
   "cell_type": "code",
   "execution_count": 182,
   "metadata": {
    "deletable": false,
    "nbgrader": {
     "checksum": "51cfaacbaf533e85d9794bc74712afd5",
     "grade": true,
     "grade_id": "cell-d647464d04870b73",
     "locked": false,
     "points": 0.5,
     "schema_version": 1,
     "solution": true
    }
   },
   "outputs": [
    {
     "data": {
      "text/plain": [
       "<matplotlib.legend.Legend at 0x20200307940>"
      ]
     },
     "execution_count": 182,
     "metadata": {},
     "output_type": "execute_result"
    },
    {
     "data": {
      "image/png": "[encoded data removed]",
      "text/plain": [
       "<matplotlib.figure.Figure at 0x20200273748>"
      ]
     },
     "metadata": {},
     "output_type": "display_data"
    }
   ],
   "source": [
    "plt.scatter(H,P, label=\"combinations of (H,P) after merger\")\n",
    "plt.scatter(herfindahl_index,p(equilibrium_output), label=\"(H,P) before merge or (H0,P0)\")\n",
    "plt.xlabel('Herfindahl index')\n",
    "plt.ylabel('price')\n",
    "plt.legend()"
   ]
  },
  {
   "cell_type": "markdown",
   "metadata": {
    "deletable": false,
    "editable": false,
    "nbgrader": {
     "checksum": "11b6609131b1c25886f2c6cafe0f7a59",
     "grade": false,
     "grade_id": "cell-5c5e5776a7c135a2",
     "locked": true,
     "schema_version": 1,
     "solution": false
    }
   },
   "source": [
    "#### h) [0.5 points] Use the graph under g) to discuss the relation between the Herfindahl index and the equilibrium price. To illustrate, some people think that lower values of the Herfindahl index are associated with more competitive outcome. Would you agree with this?"
   ]
  },
  {
   "cell_type": "markdown",
   "metadata": {
    "collapsed": true,
    "deletable": false,
    "nbgrader": {
     "checksum": "3d396887dde3b00420c623b9f4ea8ed2",
     "grade": true,
     "grade_id": "cell-cbd89d483b23a953",
     "locked": false,
     "points": 0.5,
     "schema_version": 1,
     "solution": true
    }
   },
   "source": [
    "The more firms the lower the Herfindahl index. so from this we could conclude that a lower herfindahl index means more competitiveness. however when the amount of firms is fixed a lower Herfindahl index means a higher price, which would suggest less competitiveness."
   ]
  },
  {
   "cell_type": "markdown",
   "metadata": {},
   "source": [
    "## Github\n",
    "\n",
    "After you have finished, we need to upload this notebook on github. Make sure that you upload the file on the github page of each collaborator."
   ]
  },
  {
   "cell_type": "markdown",
   "metadata": {},
   "source": [
    "Instructions on how to upload this on github can be found [on this page](http://janboone.github.io/programming-for-economists/github.html). This page has two screencasts: one shows how to drag the notebook onto your github page, the other shows how you can use the command line to upload your notebook.\n"
   ]
  },
  {
   "cell_type": "markdown",
   "metadata": {},
   "source": [
    "Remember to update the README file in your repository to include a link to this notebook on github.\n",
    "\n",
    "\n",
    "The links that you should post start with “github.com/” and are NOT of the form “http://localhost”. Make sure you test your links after uploading."
   ]
  },
  {
   "cell_type": "code",
   "execution_count": null,
   "metadata": {
    "collapsed": true
   },
   "outputs": [],
   "source": []
  }
 ],
 "metadata": {
  "anaconda-cloud": {},
  "kernelspec": {
   "display_name": "Python 3",
   "language": "python",
   "name": "python3"
  },
  "language_info": {
   "codemirror_mode": {
    "name": "ipython",
    "version": 3
   },
   "file_extension": ".py",
   "mimetype": "text/x-python",
   "name": "python",
   "nbconvert_exporter": "python",
   "pygments_lexer": "ipython3",
   "version": "3.6.4"
  }
 },
 "nbformat": 4,
 "nbformat_minor": 1
}
